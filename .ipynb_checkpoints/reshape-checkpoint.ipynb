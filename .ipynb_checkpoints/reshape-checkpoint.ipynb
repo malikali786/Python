{
 "cells": [
  {
   "cell_type": "code",
   "execution_count": 1,
   "metadata": {},
   "outputs": [],
   "source": [
    "import numpy as np"
   ]
  },
  {
   "cell_type": "code",
   "execution_count": 4,
   "metadata": {},
   "outputs": [],
   "source": [
    "#suppose we create a random array of 4x5 size said 'x'"
   ]
  },
  {
   "cell_type": "code",
   "execution_count": 5,
   "metadata": {},
   "outputs": [],
   "source": [
    "x=np.random.randn(4,5)"
   ]
  },
  {
   "cell_type": "code",
   "execution_count": 6,
   "metadata": {},
   "outputs": [
    {
     "data": {
      "text/plain": [
       "array([[ 1.66834275,  0.91582286,  0.75986671, -0.91092229, -0.49764343],\n",
       "       [-1.7351259 , -0.33650298,  0.00300185,  0.09278185, -0.06655524],\n",
       "       [ 0.00621455,  1.43662751, -0.08767418,  1.11128395, -0.59776924],\n",
       "       [-0.65853313,  0.86349355, -1.70967334,  0.67491392, -1.67728753]])"
      ]
     },
     "execution_count": 6,
     "metadata": {},
     "output_type": "execute_result"
    }
   ],
   "source": [
    "x"
   ]
  },
  {
   "cell_type": "code",
   "execution_count": 7,
   "metadata": {},
   "outputs": [
    {
     "data": {
      "text/plain": [
       "array([[[ 1.66834275,  0.91582286,  0.75986671, -0.91092229,\n",
       "         -0.49764343],\n",
       "        [-1.7351259 , -0.33650298,  0.00300185,  0.09278185,\n",
       "         -0.06655524]],\n",
       "\n",
       "       [[ 0.00621455,  1.43662751, -0.08767418,  1.11128395,\n",
       "         -0.59776924],\n",
       "        [-0.65853313,  0.86349355, -1.70967334,  0.67491392,\n",
       "         -1.67728753]]])"
      ]
     },
     "execution_count": 7,
     "metadata": {},
     "output_type": "execute_result"
    }
   ],
   "source": [
    "x.reshape(2,2,5)"
   ]
  },
  {
   "cell_type": "code",
   "execution_count": 9,
   "metadata": {},
   "outputs": [
    {
     "data": {
      "text/plain": [
       "array([[[ 1.66834275,  0.91582286,  0.75986671, -0.91092229,\n",
       "         -0.49764343],\n",
       "        [ 0.00621455,  1.43662751, -0.08767418,  1.11128395,\n",
       "         -0.59776924]],\n",
       "\n",
       "       [[-1.7351259 , -0.33650298,  0.00300185,  0.09278185,\n",
       "         -0.06655524],\n",
       "        [-0.65853313,  0.86349355, -1.70967334,  0.67491392,\n",
       "         -1.67728753]]])"
      ]
     },
     "execution_count": 9,
     "metadata": {},
     "output_type": "execute_result"
    }
   ],
   "source": [
    "x.reshape((2,2,5),order='F')"
   ]
  },
  {
   "cell_type": "code",
   "execution_count": 10,
   "metadata": {},
   "outputs": [],
   "source": [
    "#skipping one specific dimension by giving -1"
   ]
  },
  {
   "cell_type": "code",
   "execution_count": 11,
   "metadata": {},
   "outputs": [
    {
     "data": {
      "text/plain": [
       "array([[[ 1.66834275,  0.91582286,  0.75986671, -0.91092229,\n",
       "         -0.49764343],\n",
       "        [-1.7351259 , -0.33650298,  0.00300185,  0.09278185,\n",
       "         -0.06655524]],\n",
       "\n",
       "       [[ 0.00621455,  1.43662751, -0.08767418,  1.11128395,\n",
       "         -0.59776924],\n",
       "        [-0.65853313,  0.86349355, -1.70967334,  0.67491392,\n",
       "         -1.67728753]]])"
      ]
     },
     "execution_count": 11,
     "metadata": {},
     "output_type": "execute_result"
    }
   ],
   "source": [
    "x.reshape(2,2,-1)"
   ]
  },
  {
   "cell_type": "code",
   "execution_count": 12,
   "metadata": {},
   "outputs": [
    {
     "data": {
      "text/plain": [
       "array([ 1.66834275,  0.91582286,  0.75986671, -0.91092229, -0.49764343,\n",
       "       -1.7351259 , -0.33650298,  0.00300185,  0.09278185, -0.06655524,\n",
       "        0.00621455,  1.43662751, -0.08767418,  1.11128395, -0.59776924,\n",
       "       -0.65853313,  0.86349355, -1.70967334,  0.67491392, -1.67728753])"
      ]
     },
     "execution_count": 12,
     "metadata": {},
     "output_type": "execute_result"
    }
   ],
   "source": [
    "x.ravel()"
   ]
  },
  {
   "cell_type": "code",
   "execution_count": 13,
   "metadata": {},
   "outputs": [
    {
     "data": {
      "text/plain": [
       "array([ 1.66834275,  0.91582286,  0.75986671, -0.91092229, -0.49764343,\n",
       "       -1.7351259 , -0.33650298,  0.00300185,  0.09278185, -0.06655524,\n",
       "        0.00621455,  1.43662751, -0.08767418,  1.11128395, -0.59776924,\n",
       "       -0.65853313,  0.86349355, -1.70967334,  0.67491392, -1.67728753])"
      ]
     },
     "execution_count": 13,
     "metadata": {},
     "output_type": "execute_result"
    }
   ],
   "source": [
    "x.flatten()"
   ]
  },
  {
   "cell_type": "code",
   "execution_count": null,
   "metadata": {},
   "outputs": [],
   "source": []
  }
 ],
 "metadata": {
  "kernelspec": {
   "display_name": "Python 3",
   "language": "python",
   "name": "python3"
  },
  "language_info": {
   "codemirror_mode": {
    "name": "ipython",
    "version": 3
   },
   "file_extension": ".py",
   "mimetype": "text/x-python",
   "name": "python",
   "nbconvert_exporter": "python",
   "pygments_lexer": "ipython3",
   "version": "3.7.6"
  }
 },
 "nbformat": 4,
 "nbformat_minor": 4
}

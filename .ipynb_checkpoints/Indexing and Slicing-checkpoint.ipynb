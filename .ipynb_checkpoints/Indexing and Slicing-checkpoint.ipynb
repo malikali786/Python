{
 "cells": [
  {
   "cell_type": "code",
   "execution_count": 1,
   "metadata": {},
   "outputs": [],
   "source": [
    "import numpy as np"
   ]
  },
  {
   "cell_type": "code",
   "execution_count": 2,
   "metadata": {},
   "outputs": [],
   "source": [
    "x=np.array([1,7,9,8,5])"
   ]
  },
  {
   "cell_type": "code",
   "execution_count": 3,
   "metadata": {},
   "outputs": [
    {
     "data": {
      "text/plain": [
       "1"
      ]
     },
     "execution_count": 3,
     "metadata": {},
     "output_type": "execute_result"
    }
   ],
   "source": [
    "x[0]"
   ]
  },
  {
   "cell_type": "code",
   "execution_count": 4,
   "metadata": {},
   "outputs": [
    {
     "data": {
      "text/plain": [
       "7"
      ]
     },
     "execution_count": 4,
     "metadata": {},
     "output_type": "execute_result"
    }
   ],
   "source": [
    "x[1]"
   ]
  },
  {
   "cell_type": "code",
   "execution_count": 5,
   "metadata": {},
   "outputs": [
    {
     "data": {
      "text/plain": [
       "9"
      ]
     },
     "execution_count": 5,
     "metadata": {},
     "output_type": "execute_result"
    }
   ],
   "source": [
    "x[2]"
   ]
  },
  {
   "cell_type": "code",
   "execution_count": 6,
   "metadata": {},
   "outputs": [
    {
     "data": {
      "text/plain": [
       "8"
      ]
     },
     "execution_count": 6,
     "metadata": {},
     "output_type": "execute_result"
    }
   ],
   "source": [
    "x[3]"
   ]
  },
  {
   "cell_type": "code",
   "execution_count": 7,
   "metadata": {},
   "outputs": [
    {
     "data": {
      "text/plain": [
       "5"
      ]
     },
     "execution_count": 7,
     "metadata": {},
     "output_type": "execute_result"
    }
   ],
   "source": [
    "x[4]"
   ]
  },
  {
   "cell_type": "code",
   "execution_count": 8,
   "metadata": {},
   "outputs": [
    {
     "data": {
      "text/plain": [
       "array([7, 9, 8])"
      ]
     },
     "execution_count": 8,
     "metadata": {},
     "output_type": "execute_result"
    }
   ],
   "source": [
    "x[x>5]"
   ]
  },
  {
   "cell_type": "code",
   "execution_count": 9,
   "metadata": {},
   "outputs": [
    {
     "data": {
      "text/plain": [
       "array([1, 7, 9, 8, 5])"
      ]
     },
     "execution_count": 9,
     "metadata": {},
     "output_type": "execute_result"
    }
   ],
   "source": [
    "x"
   ]
  },
  {
   "cell_type": "code",
   "execution_count": 11,
   "metadata": {},
   "outputs": [
    {
     "data": {
      "text/plain": [
       "array([9, 7])"
      ]
     },
     "execution_count": 11,
     "metadata": {},
     "output_type": "execute_result"
    }
   ],
   "source": [
    "x[[2,1]]"
   ]
  },
  {
   "cell_type": "code",
   "execution_count": 12,
   "metadata": {},
   "outputs": [],
   "source": [
    "x=np.random.randn(10,10)"
   ]
  },
  {
   "cell_type": "code",
   "execution_count": 13,
   "metadata": {},
   "outputs": [
    {
     "data": {
      "text/plain": [
       "array([[-1.7879919 , -0.88732461, -1.00888359,  0.57284094,  1.90129968,\n",
       "         1.77215475, -2.11106301, -0.78767467, -0.18327883,  0.52576702],\n",
       "       [-0.25937885,  0.91337667, -0.42998792,  1.08095643,  0.51460703,\n",
       "        -2.04637125, -0.20089105, -1.21965614,  1.06265037, -0.02558355],\n",
       "       [-0.83245257,  0.03857473, -0.13848918,  1.68650308, -0.14441032,\n",
       "        -0.65700057, -0.64334782, -0.15487734,  0.47192576, -0.58320184],\n",
       "       [ 0.59613634, -0.73329758, -1.72043006,  1.00753867,  0.00802585,\n",
       "         0.8857425 , -0.79571176,  1.29269952, -0.24197271, -0.35748533],\n",
       "       [-0.55620804, -1.56047466,  0.75376921,  0.24645836,  0.73918038,\n",
       "         0.6505507 ,  0.58972761, -0.40101465, -1.60079395,  0.20916788],\n",
       "       [ 1.79684408, -0.30190029,  1.43481699,  0.19341977,  0.13233051,\n",
       "        -0.9808695 ,  0.11159485,  0.61384989,  1.16684391, -0.25100064],\n",
       "       [ 0.35107622,  0.44854162,  2.12584333, -0.22203798, -1.28477553,\n",
       "         0.13393484, -2.2015472 ,  0.413005  ,  0.25775823,  0.17202701],\n",
       "       [-0.40608696, -0.48350961, -1.46293547,  1.52473349, -0.11462944,\n",
       "         1.43644954, -1.40808818, -0.3383018 , -1.30764985, -0.90800473],\n",
       "       [-0.66543877, -0.27963417,  0.26475032, -0.83307466,  1.49068499,\n",
       "         0.34719294,  0.42446625,  0.20935005, -2.21655096, -0.51524128],\n",
       "       [ 1.21418494,  0.15095862,  1.15079266, -0.51442662, -0.65074129,\n",
       "         0.26441459,  0.25351095,  0.20131292,  1.05813962,  2.09501195]])"
      ]
     },
     "execution_count": 13,
     "metadata": {},
     "output_type": "execute_result"
    }
   ],
   "source": [
    "x"
   ]
  },
  {
   "cell_type": "code",
   "execution_count": 14,
   "metadata": {},
   "outputs": [
    {
     "data": {
      "text/plain": [
       "array([-1.7879919 , -0.88732461, -1.00888359,  0.57284094,  1.90129968,\n",
       "        1.77215475, -2.11106301, -0.78767467, -0.18327883,  0.52576702])"
      ]
     },
     "execution_count": 14,
     "metadata": {},
     "output_type": "execute_result"
    }
   ],
   "source": [
    "x[0]"
   ]
  },
  {
   "cell_type": "code",
   "execution_count": 22,
   "metadata": {},
   "outputs": [
    {
     "data": {
      "text/plain": [
       "array([ 1.21418494,  0.15095862,  1.15079266, -0.51442662, -0.65074129,\n",
       "        0.26441459,  0.25351095,  0.20131292,  1.05813962,  2.09501195])"
      ]
     },
     "execution_count": 22,
     "metadata": {},
     "output_type": "execute_result"
    }
   ],
   "source": [
    "x[9]"
   ]
  },
  {
   "cell_type": "code",
   "execution_count": 23,
   "metadata": {},
   "outputs": [
    {
     "data": {
      "text/plain": [
       "1.901299682218184"
      ]
     },
     "execution_count": 23,
     "metadata": {},
     "output_type": "execute_result"
    }
   ],
   "source": [
    "x[0][4]"
   ]
  },
  {
   "cell_type": "code",
   "execution_count": 24,
   "metadata": {},
   "outputs": [
    {
     "data": {
      "text/plain": [
       "array([[-0.25937885,  0.91337667, -0.42998792,  1.08095643,  0.51460703,\n",
       "        -2.04637125, -0.20089105, -1.21965614,  1.06265037, -0.02558355],\n",
       "       [ 0.59613634, -0.73329758, -1.72043006,  1.00753867,  0.00802585,\n",
       "         0.8857425 , -0.79571176,  1.29269952, -0.24197271, -0.35748533],\n",
       "       [ 1.79684408, -0.30190029,  1.43481699,  0.19341977,  0.13233051,\n",
       "        -0.9808695 ,  0.11159485,  0.61384989,  1.16684391, -0.25100064],\n",
       "       [-0.40608696, -0.48350961, -1.46293547,  1.52473349, -0.11462944,\n",
       "         1.43644954, -1.40808818, -0.3383018 , -1.30764985, -0.90800473],\n",
       "       [ 1.21418494,  0.15095862,  1.15079266, -0.51442662, -0.65074129,\n",
       "         0.26441459,  0.25351095,  0.20131292,  1.05813962,  2.09501195]])"
      ]
     },
     "execution_count": 24,
     "metadata": {},
     "output_type": "execute_result"
    }
   ],
   "source": [
    "x[1:10:2]"
   ]
  },
  {
   "cell_type": "code",
   "execution_count": 25,
   "metadata": {},
   "outputs": [
    {
     "data": {
      "text/plain": [
       "array([[-1.7879919 , -0.88732461, -1.00888359,  0.57284094],\n",
       "       [-0.25937885,  0.91337667, -0.42998792,  1.08095643],\n",
       "       [-0.83245257,  0.03857473, -0.13848918,  1.68650308],\n",
       "       [ 0.59613634, -0.73329758, -1.72043006,  1.00753867],\n",
       "       [-0.55620804, -1.56047466,  0.75376921,  0.24645836],\n",
       "       [ 1.79684408, -0.30190029,  1.43481699,  0.19341977],\n",
       "       [ 0.35107622,  0.44854162,  2.12584333, -0.22203798],\n",
       "       [-0.40608696, -0.48350961, -1.46293547,  1.52473349],\n",
       "       [-0.66543877, -0.27963417,  0.26475032, -0.83307466],\n",
       "       [ 1.21418494,  0.15095862,  1.15079266, -0.51442662]])"
      ]
     },
     "execution_count": 25,
     "metadata": {},
     "output_type": "execute_result"
    }
   ],
   "source": [
    "x[::,0:4]"
   ]
  },
  {
   "cell_type": "code",
   "execution_count": 28,
   "metadata": {},
   "outputs": [],
   "source": [
    "x=np.ones((5,5))"
   ]
  },
  {
   "cell_type": "code",
   "execution_count": 29,
   "metadata": {},
   "outputs": [
    {
     "data": {
      "text/plain": [
       "array([[1., 1., 1., 1., 1.],\n",
       "       [1., 1., 1., 1., 1.],\n",
       "       [1., 1., 1., 1., 1.],\n",
       "       [1., 1., 1., 1., 1.],\n",
       "       [1., 1., 1., 1., 1.]])"
      ]
     },
     "execution_count": 29,
     "metadata": {},
     "output_type": "execute_result"
    }
   ],
   "source": [
    "x"
   ]
  },
  {
   "cell_type": "code",
   "execution_count": 32,
   "metadata": {},
   "outputs": [],
   "source": [
    "x[1:-1,1:-1]=0"
   ]
  },
  {
   "cell_type": "code",
   "execution_count": 33,
   "metadata": {},
   "outputs": [
    {
     "data": {
      "text/plain": [
       "array([[1., 1., 1., 1., 1.],\n",
       "       [1., 0., 0., 0., 1.],\n",
       "       [1., 0., 0., 0., 1.],\n",
       "       [1., 0., 0., 0., 1.],\n",
       "       [1., 1., 1., 1., 1.]])"
      ]
     },
     "execution_count": 33,
     "metadata": {},
     "output_type": "execute_result"
    }
   ],
   "source": [
    "x"
   ]
  },
  {
   "cell_type": "code",
   "execution_count": null,
   "metadata": {},
   "outputs": [],
   "source": []
  }
 ],
 "metadata": {
  "kernelspec": {
   "display_name": "Python 3",
   "language": "python",
   "name": "python3"
  },
  "language_info": {
   "codemirror_mode": {
    "name": "ipython",
    "version": 3
   },
   "file_extension": ".py",
   "mimetype": "text/x-python",
   "name": "python",
   "nbconvert_exporter": "python",
   "pygments_lexer": "ipython3",
   "version": "3.7.6"
  }
 },
 "nbformat": 4,
 "nbformat_minor": 4
}
